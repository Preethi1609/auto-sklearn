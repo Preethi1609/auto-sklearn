{
  "cells": [
    {
      "cell_type": "markdown",
      "metadata": {},
      "source": [
        "\n",
        "# Classification\n",
        "\n",
        "The following example shows how to fit a simple classification model with\n",
        "*auto-sklearn*.\n"
      ]
    },
    {
      "cell_type": "code",
      "execution_count": 1,
      "metadata": {
        "collapsed": false
      },
      "outputs": [],
      "source": [
        "from pprint import pprint\n",
        "import sklearn.metrics\n",
        "import autosklearn.classification\n",
        "import timeit\n",
        "import pandas as pd\n",
        "from sklearn.model_selection import train_test_split\n",
        "import autosklearn"
      ]
    },
    {
      "cell_type": "markdown",
      "metadata": {},
      "source": [
        "## Data Loading\n",
        "\n"
      ]
    },
    {
      "cell_type": "code",
      "execution_count": 2,
      "metadata": {
        "collapsed": false
      },
      "outputs": [],
      "source": [
        "\n",
        "file_path = '../data/airbnb.csv'\n",
        "df = pd.read_csv(file_path)\n",
        "df = df.dropna(subset=['Rating'])\n",
        "y = df['Rating']\n",
        "X = df.drop('Rating', axis=1)\n",
        "X_train, X_test, y_train, y_test = train_test_split(X, y, test_size=0.2, random_state=42)\n"
      ]
    },
    {
      "cell_type": "markdown",
      "metadata": {},
      "source": [
        "## Build and fit a classifier\n",
        "\n"
      ]
    },
    {
      "cell_type": "code",
      "execution_count": 3,
      "metadata": {
        "collapsed": false
      },
      "outputs": [
        {
          "name": "stderr",
          "output_type": "stream",
          "text": [
            "Fitting to the training data:   0%|\u001b[32m          \u001b[0m| 0/120 [00:00<?, ?it/s, The total time budget for this task is 0:02:00]/home/preethi/projects/hitlda-project/auto-sklearn/autosklearn/data/feature_validator.py:298: FutureWarning: is_sparse is deprecated and will be removed in a future version. Check `isinstance(dtype, pd.SparseDtype)` instead.\n",
            "  if is_sparse(X[column]):\n",
            "/home/preethi/projects/hitlda-project/auto-sklearn/autosklearn/data/feature_validator.py:318: UserWarning: Input Column LocationName has generic type object. Autosklearn will treat this column as string. Please ensure that this setting is suitable for your task.\n",
            "  warnings.warn(\n",
            "Fitting to the training data:  10%|\u001b[32m█         \u001b[0m| 12/120 [00:12<01:48,  1.00s/it, The total time budget for this task is 0:02:00]"
          ]
        },
        {
          "name": "stdout",
          "output_type": "stream",
          "text": [
            "[WARNING] [2023-11-24 10:10:27,605:Client-AutoMLSMBO(1)::airbnb] Configuration 114 not found\n",
            "[WARNING] [2023-11-24 10:10:27,605:Client-AutoMLSMBO(1)::airbnb] Configuration 676 not found\n",
            "[WARNING] [2023-11-24 10:10:27,605:Client-AutoMLSMBO(1)::airbnb] Configuration 262 not found\n",
            "[WARNING] [2023-11-24 10:10:27,605:Client-AutoMLSMBO(1)::airbnb] Configuration 238 not found\n",
            "[WARNING] [2023-11-24 10:10:27,606:Client-AutoMLSMBO(1)::airbnb] Configuration 657 not found\n",
            "[WARNING] [2023-11-24 10:10:27,606:Client-AutoMLSMBO(1)::airbnb] Configuration 701 not found\n",
            "[WARNING] [2023-11-24 10:10:27,606:Client-AutoMLSMBO(1)::airbnb] Configuration 206 not found\n",
            "[WARNING] [2023-11-24 10:10:27,606:Client-AutoMLSMBO(1)::airbnb] Configuration 386 not found\n",
            "[WARNING] [2023-11-24 10:10:27,606:Client-AutoMLSMBO(1)::airbnb] Configuration 574 not found\n",
            "[WARNING] [2023-11-24 10:10:27,606:Client-AutoMLSMBO(1)::airbnb] Configuration 367 not found\n",
            "[WARNING] [2023-11-24 10:10:27,606:Client-AutoMLSMBO(1)::airbnb] Configuration 426 not found\n",
            "[WARNING] [2023-11-24 10:10:27,606:Client-AutoMLSMBO(1)::airbnb] Configuration 690 not found\n",
            "[WARNING] [2023-11-24 10:10:27,606:Client-AutoMLSMBO(1)::airbnb] Configuration 563 not found\n",
            "[WARNING] [2023-11-24 10:10:27,606:Client-AutoMLSMBO(1)::airbnb] Configuration 524 not found\n",
            "[WARNING] [2023-11-24 10:10:27,606:Client-AutoMLSMBO(1)::airbnb] Configuration 71 not found\n",
            "[WARNING] [2023-11-24 10:10:27,606:Client-AutoMLSMBO(1)::airbnb] Configuration 674 not found\n",
            "[WARNING] [2023-11-24 10:10:27,606:Client-AutoMLSMBO(1)::airbnb] Configuration 601 not found\n",
            "[WARNING] [2023-11-24 10:10:27,606:Client-AutoMLSMBO(1)::airbnb] Configuration 467 not found\n",
            "[WARNING] [2023-11-24 10:10:27,606:Client-AutoMLSMBO(1)::airbnb] Configuration 266 not found\n",
            "[WARNING] [2023-11-24 10:10:27,606:Client-AutoMLSMBO(1)::airbnb] Configuration 108 not found\n",
            "[WARNING] [2023-11-24 10:10:27,607:Client-AutoMLSMBO(1)::airbnb] Configuration 506 not found\n",
            "[WARNING] [2023-11-24 10:10:27,607:Client-AutoMLSMBO(1)::airbnb] Configuration 162 not found\n",
            "[WARNING] [2023-11-24 10:10:27,607:Client-AutoMLSMBO(1)::airbnb] Configuration 518 not found\n",
            "[WARNING] [2023-11-24 10:10:27,607:Client-AutoMLSMBO(1)::airbnb] Configuration 605 not found\n",
            "[WARNING] [2023-11-24 10:10:27,607:Client-AutoMLSMBO(1)::airbnb] Configuration 220 not found\n",
            "[WARNING] [2023-11-24 10:10:27,607:Client-AutoMLSMBO(1)::airbnb] Configuration 444 not found\n",
            "[WARNING] [2023-11-24 10:10:27,607:Client-AutoMLSMBO(1)::airbnb] Configuration 702 not found\n",
            "[WARNING] [2023-11-24 10:10:27,607:Client-AutoMLSMBO(1)::airbnb] Configuration 302 not found\n",
            "[WARNING] [2023-11-24 10:10:27,607:Client-AutoMLSMBO(1)::airbnb] Configuration 388 not found\n",
            "[WARNING] [2023-11-24 10:10:27,607:Client-AutoMLSMBO(1)::airbnb] Configuration 492 not found\n",
            "[WARNING] [2023-11-24 10:10:27,607:Client-AutoMLSMBO(1)::airbnb] Configuration 22 not found\n",
            "[WARNING] [2023-11-24 10:10:27,607:Client-AutoMLSMBO(1)::airbnb] Configuration 91 not found\n",
            "[WARNING] [2023-11-24 10:10:27,607:Client-AutoMLSMBO(1)::airbnb] Configuration 659 not found\n",
            "[WARNING] [2023-11-24 10:10:27,607:Client-AutoMLSMBO(1)::airbnb] Configuration 147 not found\n",
            "[WARNING] [2023-11-24 10:10:27,607:Client-AutoMLSMBO(1)::airbnb] Configuration 138 not found\n",
            "[WARNING] [2023-11-24 10:10:27,607:Client-AutoMLSMBO(1)::airbnb] Configuration 631 not found\n",
            "[WARNING] [2023-11-24 10:10:27,607:Client-AutoMLSMBO(1)::airbnb] Configuration 7 not found\n",
            "[WARNING] [2023-11-24 10:10:27,607:Client-AutoMLSMBO(1)::airbnb] Configuration 532 not found\n",
            "[WARNING] [2023-11-24 10:10:27,607:Client-AutoMLSMBO(1)::airbnb] Configuration 327 not found\n",
            "[WARNING] [2023-11-24 10:10:27,607:Client-AutoMLSMBO(1)::airbnb] Configuration 454 not found\n",
            "[WARNING] [2023-11-24 10:10:27,607:Client-AutoMLSMBO(1)::airbnb] Configuration 1 not found\n",
            "[WARNING] [2023-11-24 10:10:27,607:Client-AutoMLSMBO(1)::airbnb] Configuration 576 not found\n",
            "[WARNING] [2023-11-24 10:10:27,608:Client-AutoMLSMBO(1)::airbnb] Configuration 227 not found\n",
            "[WARNING] [2023-11-24 10:10:27,608:Client-AutoMLSMBO(1)::airbnb] Configuration 214 not found\n",
            "[WARNING] [2023-11-24 10:10:27,608:Client-AutoMLSMBO(1)::airbnb] Configuration 176 not found\n",
            "[WARNING] [2023-11-24 10:10:27,608:Client-AutoMLSMBO(1)::airbnb] Configuration 14 not found\n",
            "[WARNING] [2023-11-24 10:10:27,608:Client-AutoMLSMBO(1)::airbnb] Configuration 191 not found\n",
            "[WARNING] [2023-11-24 10:10:27,608:Client-AutoMLSMBO(1)::airbnb] Configuration 624 not found\n",
            "[WARNING] [2023-11-24 10:10:27,608:Client-AutoMLSMBO(1)::airbnb] Configuration 668 not found\n",
            "[WARNING] [2023-11-24 10:10:27,608:Client-AutoMLSMBO(1)::airbnb] Configuration 635 not found\n",
            "[WARNING] [2023-11-24 10:10:27,608:Client-AutoMLSMBO(1)::airbnb] Configuration 694 not found\n",
            "[WARNING] [2023-11-24 10:10:27,608:Client-AutoMLSMBO(1)::airbnb] Configuration 369 not found\n",
            "[WARNING] [2023-11-24 10:10:27,608:Client-AutoMLSMBO(1)::airbnb] Configuration 515 not found\n",
            "[WARNING] [2023-11-24 10:10:27,608:Client-AutoMLSMBO(1)::airbnb] Configuration 188 not found\n",
            "[WARNING] [2023-11-24 10:10:27,608:Client-AutoMLSMBO(1)::airbnb] Configuration 283 not found\n",
            "[WARNING] [2023-11-24 10:10:27,608:Client-AutoMLSMBO(1)::airbnb] Configuration 338 not found\n",
            "[WARNING] [2023-11-24 10:10:27,608:Client-AutoMLSMBO(1)::airbnb] Configuration 43 not found\n",
            "[WARNING] [2023-11-24 10:10:27,608:Client-AutoMLSMBO(1)::airbnb] Configuration 67 not found\n",
            "[WARNING] [2023-11-24 10:10:27,608:Client-AutoMLSMBO(1)::airbnb] Configuration 257 not found\n",
            "[WARNING] [2023-11-24 10:10:27,608:Client-AutoMLSMBO(1)::airbnb] Configuration 230 not found\n",
            "[WARNING] [2023-11-24 10:10:27,608:Client-AutoMLSMBO(1)::airbnb] Configuration 254 not found\n",
            "[WARNING] [2023-11-24 10:10:27,608:Client-AutoMLSMBO(1)::airbnb] Configuration 347 not found\n",
            "[WARNING] [2023-11-24 10:10:27,609:Client-AutoMLSMBO(1)::airbnb] Configuration 430 not found\n",
            "[WARNING] [2023-11-24 10:10:27,609:Client-AutoMLSMBO(1)::airbnb] Configuration 382 not found\n",
            "[WARNING] [2023-11-24 10:10:27,609:Client-AutoMLSMBO(1)::airbnb] Configuration 86 not found\n",
            "[WARNING] [2023-11-24 10:10:27,609:Client-AutoMLSMBO(1)::airbnb] Configuration 473 not found\n",
            "[WARNING] [2023-11-24 10:10:27,609:Client-AutoMLSMBO(1)::airbnb] Configuration 585 not found\n",
            "[WARNING] [2023-11-24 10:10:27,609:Client-AutoMLSMBO(1)::airbnb] Configuration 460 not found\n",
            "[WARNING] [2023-11-24 10:10:27,609:Client-AutoMLSMBO(1)::airbnb] Configuration 88 not found\n",
            "[WARNING] [2023-11-24 10:10:27,609:Client-AutoMLSMBO(1)::airbnb] Configuration 332 not found\n",
            "[WARNING] [2023-11-24 10:10:27,609:Client-AutoMLSMBO(1)::airbnb] Configuration 61 not found\n",
            "[WARNING] [2023-11-24 10:10:27,610:Client-AutoMLSMBO(1)::airbnb] Configuration 211 not found\n",
            "[WARNING] [2023-11-24 10:10:27,610:Client-AutoMLSMBO(1)::airbnb] Configuration 28 not found\n",
            "[WARNING] [2023-11-24 10:10:27,610:Client-AutoMLSMBO(1)::airbnb] Configuration 476 not found\n",
            "[WARNING] [2023-11-24 10:10:27,610:Client-AutoMLSMBO(1)::airbnb] Configuration 440 not found\n",
            "[WARNING] [2023-11-24 10:10:27,610:Client-AutoMLSMBO(1)::airbnb] Configuration 145 not found\n",
            "[WARNING] [2023-11-24 10:10:27,610:Client-AutoMLSMBO(1)::airbnb] Configuration 165 not found\n",
            "[WARNING] [2023-11-24 10:10:27,610:Client-AutoMLSMBO(1)::airbnb] Configuration 407 not found\n",
            "[WARNING] [2023-11-24 10:10:27,610:Client-AutoMLSMBO(1)::airbnb] Configuration 521 not found\n",
            "[WARNING] [2023-11-24 10:10:27,610:Client-AutoMLSMBO(1)::airbnb] Configuration 329 not found\n",
            "[WARNING] [2023-11-24 10:10:27,610:Client-AutoMLSMBO(1)::airbnb] Configuration 222 not found\n",
            "[WARNING] [2023-11-24 10:10:27,610:Client-AutoMLSMBO(1)::airbnb] Configuration 131 not found\n",
            "[WARNING] [2023-11-24 10:10:27,610:Client-AutoMLSMBO(1)::airbnb] Configuration 663 not found\n",
            "[WARNING] [2023-11-24 10:10:27,610:Client-AutoMLSMBO(1)::airbnb] Configuration 32 not found\n",
            "[WARNING] [2023-11-24 10:10:27,610:Client-AutoMLSMBO(1)::airbnb] Configuration 237 not found\n",
            "[WARNING] [2023-11-24 10:10:27,611:Client-AutoMLSMBO(1)::airbnb] Configuration 422 not found\n",
            "[WARNING] [2023-11-24 10:10:27,611:Client-AutoMLSMBO(1)::airbnb] Configuration 75 not found\n",
            "[WARNING] [2023-11-24 10:10:27,611:Client-AutoMLSMBO(1)::airbnb] Configuration 590 not found\n",
            "[WARNING] [2023-11-24 10:10:27,611:Client-AutoMLSMBO(1)::airbnb] Configuration 184 not found\n",
            "[WARNING] [2023-11-24 10:10:27,611:Client-AutoMLSMBO(1)::airbnb] Configuration 282 not found\n",
            "[WARNING] [2023-11-24 10:10:27,611:Client-AutoMLSMBO(1)::airbnb] Configuration 461 not found\n",
            "[WARNING] [2023-11-24 10:10:27,611:Client-AutoMLSMBO(1)::airbnb] Configuration 560 not found\n",
            "[WARNING] [2023-11-24 10:10:27,611:Client-AutoMLSMBO(1)::airbnb] Configuration 232 not found\n",
            "[WARNING] [2023-11-24 10:10:27,611:Client-AutoMLSMBO(1)::airbnb] Configuration 546 not found\n",
            "[WARNING] [2023-11-24 10:10:27,611:Client-AutoMLSMBO(1)::airbnb] Configuration 608 not found\n",
            "[WARNING] [2023-11-24 10:10:27,611:Client-AutoMLSMBO(1)::airbnb] Configuration 399 not found\n",
            "[WARNING] [2023-11-24 10:10:27,611:Client-AutoMLSMBO(1)::airbnb] Configuration 37 not found\n",
            "[WARNING] [2023-11-24 10:10:27,611:Client-AutoMLSMBO(1)::airbnb] Configuration 358 not found\n",
            "[WARNING] [2023-11-24 10:10:27,611:Client-AutoMLSMBO(1)::airbnb] Configuration 99 not found\n",
            "[WARNING] [2023-11-24 10:10:27,611:Client-AutoMLSMBO(1)::airbnb] Configuration 149 not found\n",
            "[WARNING] [2023-11-24 10:10:27,612:Client-AutoMLSMBO(1)::airbnb] Configuration 345 not found\n",
            "[WARNING] [2023-11-24 10:10:27,612:Client-AutoMLSMBO(1)::airbnb] Configuration 579 not found\n",
            "[WARNING] [2023-11-24 10:10:27,612:Client-AutoMLSMBO(1)::airbnb] Configuration 9 not found\n",
            "[WARNING] [2023-11-24 10:10:27,612:Client-AutoMLSMBO(1)::airbnb] Configuration 81 not found\n",
            "[WARNING] [2023-11-24 10:10:27,612:Client-AutoMLSMBO(1)::airbnb] Configuration 357 not found\n",
            "[WARNING] [2023-11-24 10:10:27,612:Client-AutoMLSMBO(1)::airbnb] Configuration 595 not found\n",
            "[WARNING] [2023-11-24 10:10:27,612:Client-AutoMLSMBO(1)::airbnb] Configuration 613 not found\n",
            "[WARNING] [2023-11-24 10:10:27,612:Client-AutoMLSMBO(1)::airbnb] Configuration 315 not found\n",
            "[WARNING] [2023-11-24 10:10:27,612:Client-AutoMLSMBO(1)::airbnb] Configuration 40 not found\n",
            "[WARNING] [2023-11-24 10:10:27,612:Client-AutoMLSMBO(1)::airbnb] Configuration 414 not found\n",
            "[WARNING] [2023-11-24 10:10:27,612:Client-AutoMLSMBO(1)::airbnb] Configuration 536 not found\n",
            "[WARNING] [2023-11-24 10:10:27,612:Client-AutoMLSMBO(1)::airbnb] Configuration 264 not found\n",
            "[WARNING] [2023-11-24 10:10:27,612:Client-AutoMLSMBO(1)::airbnb] Configuration 193 not found\n",
            "[WARNING] [2023-11-24 10:10:27,612:Client-AutoMLSMBO(1)::airbnb] Configuration 277 not found\n",
            "[WARNING] [2023-11-24 10:10:27,612:Client-AutoMLSMBO(1)::airbnb] Configuration 670 not found\n",
            "[WARNING] [2023-11-24 10:10:27,612:Client-AutoMLSMBO(1)::airbnb] Configuration 53 not found\n",
            "[WARNING] [2023-11-24 10:10:27,612:Client-AutoMLSMBO(1)::airbnb] Configuration 393 not found\n",
            "[WARNING] [2023-11-24 10:10:27,612:Client-AutoMLSMBO(1)::airbnb] Configuration 648 not found\n",
            "[WARNING] [2023-11-24 10:10:27,613:Client-AutoMLSMBO(1)::airbnb] Configuration 270 not found\n",
            "[WARNING] [2023-11-24 10:10:27,613:Client-AutoMLSMBO(1)::airbnb] Configuration 173 not found\n",
            "[WARNING] [2023-11-24 10:10:27,613:Client-AutoMLSMBO(1)::airbnb] Configuration 25 not found\n",
            "[WARNING] [2023-11-24 10:10:27,614:Client-AutoMLSMBO(1)::airbnb] Configuration 48 not found\n",
            "[WARNING] [2023-11-24 10:10:27,614:Client-AutoMLSMBO(1)::airbnb] Configuration 512 not found\n",
            "[WARNING] [2023-11-24 10:10:27,614:Client-AutoMLSMBO(1)::airbnb] Configuration 129 not found\n",
            "[WARNING] [2023-11-24 10:10:27,614:Client-AutoMLSMBO(1)::airbnb] Configuration 378 not found\n",
            "[WARNING] [2023-11-24 10:10:27,614:Client-AutoMLSMBO(1)::airbnb] Configuration 313 not found\n",
            "[WARNING] [2023-11-24 10:10:27,614:Client-AutoMLSMBO(1)::airbnb] Configuration 247 not found\n",
            "[WARNING] [2023-11-24 10:10:27,615:Client-AutoMLSMBO(1)::airbnb] Configuration 445 not found\n",
            "[WARNING] [2023-11-24 10:10:27,615:Client-AutoMLSMBO(1)::airbnb] Configuration 587 not found\n",
            "[WARNING] [2023-11-24 10:10:27,615:Client-AutoMLSMBO(1)::airbnb] Configuration 653 not found\n",
            "[WARNING] [2023-11-24 10:10:27,615:Client-AutoMLSMBO(1)::airbnb] Configuration 680 not found\n",
            "[WARNING] [2023-11-24 10:10:27,615:Client-AutoMLSMBO(1)::airbnb] Configuration 204 not found\n",
            "[WARNING] [2023-11-24 10:10:27,615:Client-AutoMLSMBO(1)::airbnb] Configuration 437 not found\n",
            "[WARNING] [2023-11-24 10:10:27,615:Client-AutoMLSMBO(1)::airbnb] Configuration 142 not found\n",
            "[WARNING] [2023-11-24 10:10:27,615:Client-AutoMLSMBO(1)::airbnb] Configuration 69 not found\n",
            "[WARNING] [2023-11-24 10:10:27,615:Client-AutoMLSMBO(1)::airbnb] Configuration 485 not found\n",
            "[WARNING] [2023-11-24 10:10:27,615:Client-AutoMLSMBO(1)::airbnb] Configuration 310 not found\n",
            "[WARNING] [2023-11-24 10:10:27,615:Client-AutoMLSMBO(1)::airbnb] Configuration 160 not found\n",
            "[WARNING] [2023-11-24 10:10:27,615:Client-AutoMLSMBO(1)::airbnb] Configuration 434 not found\n",
            "[WARNING] [2023-11-24 10:10:27,615:Client-AutoMLSMBO(1)::airbnb] Configuration 615 not found\n",
            "[WARNING] [2023-11-24 10:10:27,615:Client-AutoMLSMBO(1)::airbnb] Configuration 375 not found\n",
            "[WARNING] [2023-11-24 10:10:27,616:Client-AutoMLSMBO(1)::airbnb] Configuration 470 not found\n",
            "[WARNING] [2023-11-24 10:10:27,616:Client-AutoMLSMBO(1)::airbnb] Configuration 419 not found\n",
            "[WARNING] [2023-11-24 10:10:27,617:Client-AutoMLSMBO(1)::airbnb] Configuration 293 not found\n",
            "[WARNING] [2023-11-24 10:10:27,617:Client-AutoMLSMBO(1)::airbnb] Configuration 83 not found\n",
            "[WARNING] [2023-11-24 10:10:27,617:Client-AutoMLSMBO(1)::airbnb] Configuration 154 not found\n",
            "[WARNING] [2023-11-24 10:10:27,617:Client-AutoMLSMBO(1)::airbnb] Configuration 197 not found\n",
            "[WARNING] [2023-11-24 10:10:27,617:Client-AutoMLSMBO(1)::airbnb] Configuration 172 not found\n",
            "[WARNING] [2023-11-24 10:10:27,617:Client-AutoMLSMBO(1)::airbnb] Configuration 412 not found\n",
            "[WARNING] [2023-11-24 10:10:27,617:Client-AutoMLSMBO(1)::airbnb] Configuration 647 not found\n",
            "[WARNING] [2023-11-24 10:10:27,617:Client-AutoMLSMBO(1)::airbnb] Configuration 183 not found\n",
            "[WARNING] [2023-11-24 10:10:27,618:Client-AutoMLSMBO(1)::airbnb] Configuration 617 not found\n",
            "[WARNING] [2023-11-24 10:10:27,619:Client-AutoMLSMBO(1)::airbnb] Configuration 486 not found\n",
            "[WARNING] [2023-11-24 10:10:27,619:Client-AutoMLSMBO(1)::airbnb] Configuration 643 not found\n",
            "[WARNING] [2023-11-24 10:10:27,619:Client-AutoMLSMBO(1)::airbnb] Configuration 707 not found\n",
            "[WARNING] [2023-11-24 10:10:27,619:Client-AutoMLSMBO(1)::airbnb] Configuration 687 not found\n",
            "[WARNING] [2023-11-24 10:10:27,619:Client-AutoMLSMBO(1)::airbnb] Configuration 58 not found\n",
            "[WARNING] [2023-11-24 10:10:27,619:Client-AutoMLSMBO(1)::airbnb] Configuration 124 not found\n",
            "[WARNING] [2023-11-24 10:10:27,619:Client-AutoMLSMBO(1)::airbnb] Configuration 571 not found\n",
            "[WARNING] [2023-11-24 10:10:27,619:Client-AutoMLSMBO(1)::airbnb] Configuration 56 not found\n",
            "[WARNING] [2023-11-24 10:10:27,619:Client-AutoMLSMBO(1)::airbnb] Configuration 555 not found\n",
            "[WARNING] [2023-11-24 10:10:27,619:Client-AutoMLSMBO(1)::airbnb] Configuration 288 not found\n",
            "[WARNING] [2023-11-24 10:10:27,619:Client-AutoMLSMBO(1)::airbnb] Configuration 628 not found\n",
            "[WARNING] [2023-11-24 10:10:27,619:Client-AutoMLSMBO(1)::airbnb] Configuration 97 not found\n",
            "[WARNING] [2023-11-24 10:10:27,619:Client-AutoMLSMBO(1)::airbnb] Configuration 622 not found\n",
            "[WARNING] [2023-11-24 10:10:27,619:Client-AutoMLSMBO(1)::airbnb] Configuration 17 not found\n",
            "[WARNING] [2023-11-24 10:10:27,620:Client-AutoMLSMBO(1)::airbnb] Configuration 298 not found\n",
            "[WARNING] [2023-11-24 10:10:27,620:Client-AutoMLSMBO(1)::airbnb] Configuration 683 not found\n",
            "[WARNING] [2023-11-24 10:10:27,620:Client-AutoMLSMBO(1)::airbnb] Configuration 553 not found\n",
            "[WARNING] [2023-11-24 10:10:27,620:Client-AutoMLSMBO(1)::airbnb] Configuration 352 not found\n",
            "[WARNING] [2023-11-24 10:10:27,620:Client-AutoMLSMBO(1)::airbnb] Configuration 395 not found\n",
            "[WARNING] [2023-11-24 10:10:27,620:Client-AutoMLSMBO(1)::airbnb] Configuration 538 not found\n",
            "[WARNING] [2023-11-24 10:10:27,620:Client-AutoMLSMBO(1)::airbnb] Configuration 448 not found\n",
            "[WARNING] [2023-11-24 10:10:27,620:Client-AutoMLSMBO(1)::airbnb] Configuration 112 not found\n",
            "[WARNING] [2023-11-24 10:10:27,620:Client-AutoMLSMBO(1)::airbnb] Configuration 543 not found\n",
            "[WARNING] [2023-11-24 10:10:27,620:Client-AutoMLSMBO(1)::airbnb] Configuration 494 not found\n",
            "[WARNING] [2023-11-24 10:10:27,620:Client-AutoMLSMBO(1)::airbnb] Configuration 19 not found\n",
            "[WARNING] [2023-11-24 10:10:27,620:Client-AutoMLSMBO(1)::airbnb] Configuration 121 not found\n",
            "[WARNING] [2023-11-24 10:10:27,620:Client-AutoMLSMBO(1)::airbnb] Configuration 134 not found\n",
            "[WARNING] [2023-11-24 10:10:27,620:Client-AutoMLSMBO(1)::airbnb] Configuration 499 not found\n",
            "[WARNING] [2023-11-24 10:10:27,620:Client-AutoMLSMBO(1)::airbnb] Configuration 509 not found\n",
            "[WARNING] [2023-11-24 10:10:27,620:Client-AutoMLSMBO(1)::airbnb] Configuration 528 not found\n",
            "[WARNING] [2023-11-24 10:10:27,620:Client-AutoMLSMBO(1)::airbnb] Configuration 171 not found\n",
            "[WARNING] [2023-11-24 10:10:27,621:Client-AutoMLSMBO(1)::airbnb] Configuration 403 not found\n",
            "[WARNING] [2023-11-24 10:10:27,621:Client-AutoMLSMBO(1)::airbnb] Configuration 363 not found\n",
            "[WARNING] [2023-11-24 10:10:27,621:Client-AutoMLSMBO(1)::airbnb] Configuration 102 not found\n",
            "[WARNING] [2023-11-24 10:10:27,621:Client-AutoMLSMBO(1)::airbnb] Configuration 322 not found\n",
            "[WARNING] [2023-11-24 10:10:27,621:Client-AutoMLSMBO(1)::airbnb] Configuration 480 not found\n",
            "[WARNING] [2023-11-24 10:10:27,621:Client-AutoMLSMBO(1)::airbnb] Configuration 548 not found\n",
            "[WARNING] [2023-11-24 10:10:27,621:Client-AutoMLSMBO(1)::airbnb] Configuration 291 not found\n",
            "[WARNING] [2023-11-24 10:10:27,621:Client-AutoMLSMBO(1)::airbnb] Configuration 243 not found\n",
            "[WARNING] [2023-11-24 10:10:27,622:Client-AutoMLSMBO(1)::airbnb] Configuration 317 not found\n",
            "[WARNING] [2023-11-24 10:10:27,622:Client-AutoMLSMBO(1)::airbnb] Configuration 304 not found\n",
            "[WARNING] [2023-11-24 10:10:27,622:Client-AutoMLSMBO(1)::airbnb] Configuration 640 not found\n",
            "[WARNING] [2023-11-24 10:10:27,622:Client-AutoMLSMBO(1)::airbnb] Configuration 150 not found\n",
            "[WARNING] [2023-11-24 10:10:27,622:Client-AutoMLSMBO(1)::airbnb] Configuration 275 not found\n",
            "[WARNING] [2023-11-24 10:10:27,622:Client-AutoMLSMBO(1)::airbnb] Configuration 452 not found\n",
            "[WARNING] [2023-11-24 10:10:27,622:Client-AutoMLSMBO(1)::airbnb] Configuration 120 not found\n"
          ]
        },
        {
          "name": "stderr",
          "output_type": "stream",
          "text": [
            "Fitting to the training data:  36%|\u001b[32m███▌      \u001b[0m| 43/120 [00:43<01:17,  1.00s/it, The total time budget for this task is 0:02:00]"
          ]
        },
        {
          "name": "stdout",
          "output_type": "stream",
          "text": [
            "[WARNING] [2023-11-24 10:10:58,879:Client-EnsembleBuilder] No runs were available to build an ensemble from\n"
          ]
        },
        {
          "name": "stderr",
          "output_type": "stream",
          "text": [
            "Fitting to the training data:  62%|\u001b[32m██████▏   \u001b[0m| 74/120 [01:14<00:46,  1.00s/it, The total time budget for this task is 0:02:00]"
          ]
        },
        {
          "name": "stdout",
          "output_type": "stream",
          "text": [
            "[WARNING] [2023-11-24 10:11:30,092:Client-EnsembleBuilder] No runs were available to build an ensemble from\n"
          ]
        },
        {
          "name": "stderr",
          "output_type": "stream",
          "text": [
            "Fitting to the training data:  62%|\u001b[32m██████▎   \u001b[0m| 75/120 [01:15<00:45,  1.00s/it, The total time budget for this task is 0:02:00]"
          ]
        },
        {
          "name": "stdout",
          "output_type": "stream",
          "text": [
            "[WARNING] [2023-11-24 10:11:31,192:Client-EnsembleBuilder] No runs were available to build an ensemble from\n"
          ]
        },
        {
          "name": "stderr",
          "output_type": "stream",
          "text": [
            "Fitting to the training data:  63%|\u001b[32m██████▎   \u001b[0m| 76/120 [01:16<00:44,  1.00s/it, The total time budget for this task is 0:02:00]"
          ]
        },
        {
          "name": "stdout",
          "output_type": "stream",
          "text": [
            "[WARNING] [2023-11-24 10:11:32,234:Client-EnsembleBuilder] No runs were available to build an ensemble from\n"
          ]
        },
        {
          "name": "stderr",
          "output_type": "stream",
          "text": [
            "Fitting to the training data:  89%|\u001b[32m████████▉ \u001b[0m| 107/120 [01:47<00:13,  1.00s/it, The total time budget for this task is 0:02:00]"
          ]
        },
        {
          "name": "stdout",
          "output_type": "stream",
          "text": [
            "[WARNING] [2023-11-24 10:12:03,383:Client-EnsembleBuilder] No runs were available to build an ensemble from\n"
          ]
        },
        {
          "name": "stderr",
          "output_type": "stream",
          "text": [
            "Fitting to the training data:  91%|\u001b[32m█████████ \u001b[0m| 109/120 [01:49<00:11,  1.00s/it, The total time budget for this task is 0:02:00]"
          ]
        },
        {
          "name": "stdout",
          "output_type": "stream",
          "text": [
            "[WARNING] [2023-11-24 10:12:05,497:Client-EnsembleBuilder] No runs were available to build an ensemble from\n"
          ]
        },
        {
          "name": "stderr",
          "output_type": "stream",
          "text": [
            "Fitting to the training data: 100%|\u001b[32m██████████\u001b[0m| 120/120 [01:50<00:00,  1.09it/s, The total time budget for this task is 0:02:00]\n"
          ]
        },
        {
          "name": "stdout",
          "output_type": "stream",
          "text": [
            "Configuration(values={\n",
            "  'balancing:strategy': 'none',\n",
            "  'classifier:__choice__': 'random_forest',\n",
            "  'classifier:random_forest:bootstrap': 'True',\n",
            "  'classifier:random_forest:criterion': 'gini',\n",
            "  'classifier:random_forest:max_depth': 'None',\n",
            "  'classifier:random_forest:max_features': 0.5,\n",
            "  'classifier:random_forest:max_leaf_nodes': 'None',\n",
            "  'classifier:random_forest:min_impurity_decrease': 0.0,\n",
            "  'classifier:random_forest:min_samples_leaf': 1,\n",
            "  'classifier:random_forest:min_samples_split': 2,\n",
            "  'classifier:random_forest:min_weight_fraction_leaf': 0.0,\n",
            "  'data_preprocessor:__choice__': 'feature_type',\n",
            "  'data_preprocessor:feature_type:numerical_transformer:imputation:strategy': 'mean',\n",
            "  'data_preprocessor:feature_type:numerical_transformer:rescaling:__choice__': 'standardize',\n",
            "  'data_preprocessor:feature_type:text_transformer:text_encoding:__choice__': 'tfidf_encoding',\n",
            "  'data_preprocessor:feature_type:text_transformer:text_encoding:tfidf_encoding:analyzer': 'char',\n",
            "  'data_preprocessor:feature_type:text_transformer:text_encoding:tfidf_encoding:binary': 'False',\n",
            "  'data_preprocessor:feature_type:text_transformer:text_encoding:tfidf_encoding:max_df': 1.0,\n",
            "  'data_preprocessor:feature_type:text_transformer:text_encoding:tfidf_encoding:min_df': 0.0,\n",
            "  'data_preprocessor:feature_type:text_transformer:text_encoding:tfidf_encoding:ngram_range_char': 4,\n",
            "  'data_preprocessor:feature_type:text_transformer:text_encoding:tfidf_encoding:norm': 'l2',\n",
            "  'data_preprocessor:feature_type:text_transformer:text_encoding:tfidf_encoding:per_column': False,\n",
            "  'data_preprocessor:feature_type:text_transformer:text_encoding:tfidf_encoding:sublinear_tf': 'False',\n",
            "  'data_preprocessor:feature_type:text_transformer:text_feature_reduction:n_components': 100,\n",
            "  'feature_preprocessor:__choice__': 'no_preprocessing',\n",
            "})\n",
            "\n",
            "Execution time: 115.53151933100162 seconds\n"
          ]
        }
      ],
      "source": [
        "start_time = timeit.default_timer()\n",
        "\n",
        "automl = autosklearn.classification.AutoSklearnClassifier(\n",
        "    time_left_for_this_task=120,\n",
        "    per_run_time_limit=30,\n",
        "    include = {\n",
        "        'classifier': [\"random_forest\"],\n",
        "        'feature_preprocessor': [\"no_preprocessing\"],\n",
        "    },\n",
        "    tmp_folder=\"tmp/autosklearn_classification_example_tmp4\",\n",
        ")\n",
        "\n",
        "automl.fit(X_train, y_train, dataset_name=\"airbnb\")\n",
        "run_key = list(automl.automl_.runhistory_.data.keys())[0]\n",
        "run_value = automl.automl_.runhistory_.data[run_key]\n",
        "config=automl.automl_.runhistory_.ids_config[run_key.config_id]\n",
        "print(config)\n",
        "\n",
        "\n",
        "end_time = timeit.default_timer()\n",
        "execution_time = end_time - start_time\n",
        "print(f\"Execution time: {execution_time} seconds\")"
      ]
    },
    {
      "cell_type": "markdown",
      "metadata": {},
      "source": [
        "## View the models found by auto-sklearn\n",
        "\n"
      ]
    },
    {
      "cell_type": "code",
      "execution_count": 4,
      "metadata": {
        "collapsed": false
      },
      "outputs": [
        {
          "name": "stdout",
          "output_type": "stream",
          "text": [
            "          rank  ensemble_weight  type  cost duration\n",
            "model_id                                            \n",
            "1            1              1.0  <NA>  <NA>     <NA>\n"
          ]
        }
      ],
      "source": [
        "print(automl.leaderboard())"
      ]
    },
    {
      "cell_type": "markdown",
      "metadata": {},
      "source": [
        "## Print the final ensemble constructed by auto-sklearn\n",
        "\n"
      ]
    },
    {
      "cell_type": "code",
      "execution_count": 5,
      "metadata": {
        "collapsed": false
      },
      "outputs": [
        {
          "ename": "RuntimeError",
          "evalue": "No model found. Try increasing 'time_left_for_this_task'.",
          "output_type": "error",
          "traceback": [
            "\u001b[0;31m---------------------------------------------------------------------------\u001b[0m",
            "\u001b[0;31mRuntimeError\u001b[0m                              Traceback (most recent call last)",
            "\u001b[1;32m/home/preethi/projects/hitlda-project/auto-sklearn/experiments/example_classification_rf_with_pre.ipynb Cell 10\u001b[0m line \u001b[0;36m1\n\u001b[0;32m----> <a href='vscode-notebook-cell:/home/preethi/projects/hitlda-project/auto-sklearn/experiments/example_classification_rf_with_pre.ipynb#X15sZmlsZQ%3D%3D?line=0'>1</a>\u001b[0m pprint(automl\u001b[39m.\u001b[39;49mshow_models(), indent\u001b[39m=\u001b[39m\u001b[39m4\u001b[39m)\n",
            "File \u001b[0;32m~/projects/hitlda-project/auto-sklearn/autosklearn/estimators.py:895\u001b[0m, in \u001b[0;36mAutoSklearnEstimator.show_models\u001b[0;34m(self)\u001b[0m\n\u001b[1;32m    813\u001b[0m \u001b[39mdef\u001b[39;00m \u001b[39mshow_models\u001b[39m(\u001b[39mself\u001b[39m):\n\u001b[1;32m    814\u001b[0m \u001b[39m    \u001b[39m\u001b[39m\"\"\"Returns a dictionary containing dictionaries of ensemble models.\u001b[39;00m\n\u001b[1;32m    815\u001b[0m \n\u001b[1;32m    816\u001b[0m \u001b[39m    Each model in the ensemble can be accessed by giving its ``model_id`` as key.\u001b[39;00m\n\u001b[0;32m   (...)\u001b[0m\n\u001b[1;32m    892\u001b[0m \n\u001b[1;32m    893\u001b[0m \u001b[39m    \"\"\"\u001b[39;00m  \u001b[39m# noqa: E501\u001b[39;00m\n\u001b[0;32m--> 895\u001b[0m     \u001b[39mreturn\u001b[39;00m \u001b[39mself\u001b[39;49m\u001b[39m.\u001b[39;49mautoml_\u001b[39m.\u001b[39;49mshow_models()\n",
            "File \u001b[0;32m~/projects/hitlda-project/auto-sklearn/autosklearn/automl.py:2180\u001b[0m, in \u001b[0;36mAutoML.show_models\u001b[0;34m(self)\u001b[0m\n\u001b[1;32m   2178\u001b[0m \u001b[39m# Checking if the dictionary is empty\u001b[39;00m\n\u001b[1;32m   2179\u001b[0m \u001b[39mif\u001b[39;00m \u001b[39mnot\u001b[39;00m table_dict:\n\u001b[0;32m-> 2180\u001b[0m     \u001b[39mraise\u001b[39;00m \u001b[39mRuntimeError\u001b[39;00m(\n\u001b[1;32m   2181\u001b[0m         \u001b[39m\"\u001b[39m\u001b[39mNo model found. Try increasing \u001b[39m\u001b[39m'\u001b[39m\u001b[39mtime_left_for_this_task\u001b[39m\u001b[39m'\u001b[39m\u001b[39m.\u001b[39m\u001b[39m\"\u001b[39m\n\u001b[1;32m   2182\u001b[0m     )\n\u001b[1;32m   2184\u001b[0m \u001b[39mfor\u001b[39;00m (_, model_id, _), weight \u001b[39min\u001b[39;00m \u001b[39mself\u001b[39m\u001b[39m.\u001b[39mensemble_\u001b[39m.\u001b[39mget_identifiers_with_weights():\n\u001b[1;32m   2185\u001b[0m     table_dict[model_id][\u001b[39m\"\u001b[39m\u001b[39mensemble_weight\u001b[39m\u001b[39m\"\u001b[39m] \u001b[39m=\u001b[39m weight\n",
            "\u001b[0;31mRuntimeError\u001b[0m: No model found. Try increasing 'time_left_for_this_task'."
          ]
        }
      ],
      "source": [
        "pprint(automl.show_models(), indent=4)"
      ]
    },
    {
      "cell_type": "markdown",
      "metadata": {},
      "source": [
        "## Get the Score of the final ensemble\n",
        "\n"
      ]
    },
    {
      "cell_type": "code",
      "execution_count": 6,
      "metadata": {
        "collapsed": false
      },
      "outputs": [
        {
          "name": "stdout",
          "output_type": "stream",
          "text": [
            "Execution time: 0.01797708599769976 seconds\n",
            "Accuracy score: 0.32406808877397114\n"
          ]
        }
      ],
      "source": [
        "start_time = timeit.default_timer()\n",
        "\n",
        "predictions = automl.predict(X_test)\n",
        "\n",
        "end_time = timeit.default_timer()\n",
        "execution_time = end_time - start_time\n",
        "print(f\"Execution time: {execution_time} seconds\")\n",
        "print(\"Accuracy score:\", sklearn.metrics.accuracy_score(y_test, predictions))"
      ]
    }
  ],
  "metadata": {
    "kernelspec": {
      "display_name": "Python 3",
      "language": "python",
      "name": "python3"
    },
    "language_info": {
      "codemirror_mode": {
        "name": "ipython",
        "version": 3
      },
      "file_extension": ".py",
      "mimetype": "text/x-python",
      "name": "python",
      "nbconvert_exporter": "python",
      "pygments_lexer": "ipython3",
      "version": "3.9.18"
    }
  },
  "nbformat": 4,
  "nbformat_minor": 0
}
