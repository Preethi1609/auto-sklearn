{
  "cells": [
    {
      "cell_type": "markdown",
      "metadata": {},
      "source": [
        "\n",
        "# Classification\n",
        "\n",
        "The following example shows how to fit a simple classification model with\n",
        "*auto-sklearn*.\n"
      ]
    },
    {
      "cell_type": "code",
      "execution_count": 2,
      "metadata": {
        "collapsed": false
      },
      "outputs": [],
      "source": [
        "from pprint import pprint\n",
        "import sklearn.metrics\n",
        "import autosklearn.classification\n",
        "import timeit\n",
        "import pandas as pd\n",
        "from sklearn.model_selection import train_test_split"
      ]
    },
    {
      "cell_type": "markdown",
      "metadata": {},
      "source": [
        "## Data Loading\n",
        "\n"
      ]
    },
    {
      "cell_type": "code",
      "execution_count": 3,
      "metadata": {
        "collapsed": false
      },
      "outputs": [],
      "source": [
        "\n",
        "file_path = '../data/airbnb.csv'\n",
        "df = pd.read_csv(file_path)\n",
        "df = df.dropna(subset=['Rating'])\n",
        "y = df['Rating']\n",
        "X = df.drop('Rating', axis=1)\n",
        "X_train, X_test, y_train, y_test = train_test_split(X, y, test_size=0.2, random_state=42)\n"
      ]
    },
    {
      "cell_type": "markdown",
      "metadata": {},
      "source": [
        "## Build and fit a classifier\n",
        "\n"
      ]
    },
    {
      "cell_type": "code",
      "execution_count": 5,
      "metadata": {
        "collapsed": false
      },
      "outputs": [
        {
          "name": "stderr",
          "output_type": "stream",
          "text": [
            "Fitting to the training data:   0%|\u001b[32m          \u001b[0m| 0/120 [00:00<?, ?it/s, The total time budget for this task is 0:02:00]/home/preethi/projects/hitlda-project/auto-sklearn/autosklearn/data/feature_validator.py:298: FutureWarning: is_sparse is deprecated and will be removed in a future version. Check `isinstance(dtype, pd.SparseDtype)` instead.\n",
            "  if is_sparse(X[column]):\n",
            "/home/preethi/projects/hitlda-project/auto-sklearn/autosklearn/data/feature_validator.py:318: UserWarning: Input Column LocationName has generic type object. Autosklearn will treat this column as string. Please ensure that this setting is suitable for your task.\n",
            "  warnings.warn(\n",
            "Fitting to the training data:  12%|\u001b[32m█▎        \u001b[0m| 15/120 [00:15<01:45,  1.00s/it, The total time budget for this task is 0:02:00]"
          ]
        },
        {
          "name": "stdout",
          "output_type": "stream",
          "text": [
            "[WARNING] [2023-11-24 10:06:47,068:Client-AutoMLSMBO(1)::airbnb] Configuration 114 not found\n",
            "[WARNING] [2023-11-24 10:06:47,068:Client-AutoMLSMBO(1)::airbnb] Configuration 262 not found\n",
            "[WARNING] [2023-11-24 10:06:47,068:Client-AutoMLSMBO(1)::airbnb] Configuration 676 not found\n",
            "[WARNING] [2023-11-24 10:06:47,068:Client-AutoMLSMBO(1)::airbnb] Configuration 238 not found\n",
            "[WARNING] [2023-11-24 10:06:47,068:Client-AutoMLSMBO(1)::airbnb] Configuration 657 not found\n",
            "[WARNING] [2023-11-24 10:06:47,068:Client-AutoMLSMBO(1)::airbnb] Configuration 701 not found\n",
            "[WARNING] [2023-11-24 10:06:47,068:Client-AutoMLSMBO(1)::airbnb] Configuration 206 not found\n",
            "[WARNING] [2023-11-24 10:06:47,068:Client-AutoMLSMBO(1)::airbnb] Configuration 386 not found\n",
            "[WARNING] [2023-11-24 10:06:47,068:Client-AutoMLSMBO(1)::airbnb] Configuration 574 not found\n",
            "[WARNING] [2023-11-24 10:06:47,068:Client-AutoMLSMBO(1)::airbnb] Configuration 367 not found\n",
            "[WARNING] [2023-11-24 10:06:47,069:Client-AutoMLSMBO(1)::airbnb] Configuration 426 not found\n",
            "[WARNING] [2023-11-24 10:06:47,069:Client-AutoMLSMBO(1)::airbnb] Configuration 690 not found\n",
            "[WARNING] [2023-11-24 10:06:47,069:Client-AutoMLSMBO(1)::airbnb] Configuration 251 not found\n",
            "[WARNING] [2023-11-24 10:06:47,069:Client-AutoMLSMBO(1)::airbnb] Configuration 563 not found\n",
            "[WARNING] [2023-11-24 10:06:47,069:Client-AutoMLSMBO(1)::airbnb] Configuration 524 not found\n",
            "[WARNING] [2023-11-24 10:06:47,069:Client-AutoMLSMBO(1)::airbnb] Configuration 71 not found\n",
            "[WARNING] [2023-11-24 10:06:47,069:Client-AutoMLSMBO(1)::airbnb] Configuration 674 not found\n",
            "[WARNING] [2023-11-24 10:06:47,069:Client-AutoMLSMBO(1)::airbnb] Configuration 601 not found\n",
            "[WARNING] [2023-11-24 10:06:47,069:Client-AutoMLSMBO(1)::airbnb] Configuration 467 not found\n",
            "[WARNING] [2023-11-24 10:06:47,069:Client-AutoMLSMBO(1)::airbnb] Configuration 266 not found\n",
            "[WARNING] [2023-11-24 10:06:47,069:Client-AutoMLSMBO(1)::airbnb] Configuration 108 not found\n",
            "[WARNING] [2023-11-24 10:06:47,069:Client-AutoMLSMBO(1)::airbnb] Configuration 506 not found\n",
            "[WARNING] [2023-11-24 10:06:47,069:Client-AutoMLSMBO(1)::airbnb] Configuration 162 not found\n",
            "[WARNING] [2023-11-24 10:06:47,069:Client-AutoMLSMBO(1)::airbnb] Configuration 518 not found\n",
            "[WARNING] [2023-11-24 10:06:47,069:Client-AutoMLSMBO(1)::airbnb] Configuration 605 not found\n",
            "[WARNING] [2023-11-24 10:06:47,069:Client-AutoMLSMBO(1)::airbnb] Configuration 220 not found\n",
            "[WARNING] [2023-11-24 10:06:47,069:Client-AutoMLSMBO(1)::airbnb] Configuration 444 not found\n",
            "[WARNING] [2023-11-24 10:06:47,069:Client-AutoMLSMBO(1)::airbnb] Configuration 702 not found\n",
            "[WARNING] [2023-11-24 10:06:47,069:Client-AutoMLSMBO(1)::airbnb] Configuration 302 not found\n",
            "[WARNING] [2023-11-24 10:06:47,069:Client-AutoMLSMBO(1)::airbnb] Configuration 388 not found\n",
            "[WARNING] [2023-11-24 10:06:47,069:Client-AutoMLSMBO(1)::airbnb] Configuration 492 not found\n",
            "[WARNING] [2023-11-24 10:06:47,069:Client-AutoMLSMBO(1)::airbnb] Configuration 22 not found\n",
            "[WARNING] [2023-11-24 10:06:47,069:Client-AutoMLSMBO(1)::airbnb] Configuration 91 not found\n",
            "[WARNING] [2023-11-24 10:06:47,069:Client-AutoMLSMBO(1)::airbnb] Configuration 659 not found\n",
            "[WARNING] [2023-11-24 10:06:47,069:Client-AutoMLSMBO(1)::airbnb] Configuration 147 not found\n",
            "[WARNING] [2023-11-24 10:06:47,069:Client-AutoMLSMBO(1)::airbnb] Configuration 138 not found\n",
            "[WARNING] [2023-11-24 10:06:47,069:Client-AutoMLSMBO(1)::airbnb] Configuration 631 not found\n",
            "[WARNING] [2023-11-24 10:06:47,069:Client-AutoMLSMBO(1)::airbnb] Configuration 7 not found\n",
            "[WARNING] [2023-11-24 10:06:47,069:Client-AutoMLSMBO(1)::airbnb] Configuration 532 not found\n",
            "[WARNING] [2023-11-24 10:06:47,069:Client-AutoMLSMBO(1)::airbnb] Configuration 327 not found\n",
            "[WARNING] [2023-11-24 10:06:47,070:Client-AutoMLSMBO(1)::airbnb] Configuration 454 not found\n",
            "[WARNING] [2023-11-24 10:06:47,070:Client-AutoMLSMBO(1)::airbnb] Configuration 1 not found\n",
            "[WARNING] [2023-11-24 10:06:47,070:Client-AutoMLSMBO(1)::airbnb] Configuration 576 not found\n",
            "[WARNING] [2023-11-24 10:06:47,070:Client-AutoMLSMBO(1)::airbnb] Configuration 227 not found\n",
            "[WARNING] [2023-11-24 10:06:47,070:Client-AutoMLSMBO(1)::airbnb] Configuration 214 not found\n",
            "[WARNING] [2023-11-24 10:06:47,070:Client-AutoMLSMBO(1)::airbnb] Configuration 176 not found\n",
            "[WARNING] [2023-11-24 10:06:47,070:Client-AutoMLSMBO(1)::airbnb] Configuration 14 not found\n",
            "[WARNING] [2023-11-24 10:06:47,070:Client-AutoMLSMBO(1)::airbnb] Configuration 191 not found\n",
            "[WARNING] [2023-11-24 10:06:47,070:Client-AutoMLSMBO(1)::airbnb] Configuration 624 not found\n",
            "[WARNING] [2023-11-24 10:06:47,070:Client-AutoMLSMBO(1)::airbnb] Configuration 668 not found\n",
            "[WARNING] [2023-11-24 10:06:47,070:Client-AutoMLSMBO(1)::airbnb] Configuration 635 not found\n",
            "[WARNING] [2023-11-24 10:06:47,070:Client-AutoMLSMBO(1)::airbnb] Configuration 694 not found\n",
            "[WARNING] [2023-11-24 10:06:47,070:Client-AutoMLSMBO(1)::airbnb] Configuration 369 not found\n",
            "[WARNING] [2023-11-24 10:06:47,070:Client-AutoMLSMBO(1)::airbnb] Configuration 515 not found\n",
            "[WARNING] [2023-11-24 10:06:47,070:Client-AutoMLSMBO(1)::airbnb] Configuration 188 not found\n",
            "[WARNING] [2023-11-24 10:06:47,070:Client-AutoMLSMBO(1)::airbnb] Configuration 283 not found\n",
            "[WARNING] [2023-11-24 10:06:47,070:Client-AutoMLSMBO(1)::airbnb] Configuration 338 not found\n",
            "[WARNING] [2023-11-24 10:06:47,070:Client-AutoMLSMBO(1)::airbnb] Configuration 43 not found\n",
            "[WARNING] [2023-11-24 10:06:47,070:Client-AutoMLSMBO(1)::airbnb] Configuration 67 not found\n",
            "[WARNING] [2023-11-24 10:06:47,070:Client-AutoMLSMBO(1)::airbnb] Configuration 257 not found\n",
            "[WARNING] [2023-11-24 10:06:47,070:Client-AutoMLSMBO(1)::airbnb] Configuration 230 not found\n",
            "[WARNING] [2023-11-24 10:06:47,070:Client-AutoMLSMBO(1)::airbnb] Configuration 254 not found\n",
            "[WARNING] [2023-11-24 10:06:47,070:Client-AutoMLSMBO(1)::airbnb] Configuration 347 not found\n",
            "[WARNING] [2023-11-24 10:06:47,070:Client-AutoMLSMBO(1)::airbnb] Configuration 430 not found\n",
            "[WARNING] [2023-11-24 10:06:47,070:Client-AutoMLSMBO(1)::airbnb] Configuration 382 not found\n",
            "[WARNING] [2023-11-24 10:06:47,070:Client-AutoMLSMBO(1)::airbnb] Configuration 86 not found\n",
            "[WARNING] [2023-11-24 10:06:47,070:Client-AutoMLSMBO(1)::airbnb] Configuration 473 not found\n",
            "[WARNING] [2023-11-24 10:06:47,070:Client-AutoMLSMBO(1)::airbnb] Configuration 585 not found\n",
            "[WARNING] [2023-11-24 10:06:47,070:Client-AutoMLSMBO(1)::airbnb] Configuration 460 not found\n",
            "[WARNING] [2023-11-24 10:06:47,070:Client-AutoMLSMBO(1)::airbnb] Configuration 88 not found\n",
            "[WARNING] [2023-11-24 10:06:47,071:Client-AutoMLSMBO(1)::airbnb] Configuration 332 not found\n",
            "[WARNING] [2023-11-24 10:06:47,071:Client-AutoMLSMBO(1)::airbnb] Configuration 61 not found\n",
            "[WARNING] [2023-11-24 10:06:47,071:Client-AutoMLSMBO(1)::airbnb] Configuration 566 not found\n",
            "[WARNING] [2023-11-24 10:06:47,071:Client-AutoMLSMBO(1)::airbnb] Configuration 211 not found\n",
            "[WARNING] [2023-11-24 10:06:47,071:Client-AutoMLSMBO(1)::airbnb] Configuration 28 not found\n",
            "[WARNING] [2023-11-24 10:06:47,071:Client-AutoMLSMBO(1)::airbnb] Configuration 476 not found\n",
            "[WARNING] [2023-11-24 10:06:47,071:Client-AutoMLSMBO(1)::airbnb] Configuration 440 not found\n",
            "[WARNING] [2023-11-24 10:06:47,071:Client-AutoMLSMBO(1)::airbnb] Configuration 145 not found\n",
            "[WARNING] [2023-11-24 10:06:47,071:Client-AutoMLSMBO(1)::airbnb] Configuration 165 not found\n",
            "[WARNING] [2023-11-24 10:06:47,071:Client-AutoMLSMBO(1)::airbnb] Configuration 407 not found\n",
            "[WARNING] [2023-11-24 10:06:47,071:Client-AutoMLSMBO(1)::airbnb] Configuration 521 not found\n",
            "[WARNING] [2023-11-24 10:06:47,071:Client-AutoMLSMBO(1)::airbnb] Configuration 329 not found\n",
            "[WARNING] [2023-11-24 10:06:47,071:Client-AutoMLSMBO(1)::airbnb] Configuration 222 not found\n",
            "[WARNING] [2023-11-24 10:06:47,071:Client-AutoMLSMBO(1)::airbnb] Configuration 131 not found\n",
            "[WARNING] [2023-11-24 10:06:47,071:Client-AutoMLSMBO(1)::airbnb] Configuration 663 not found\n",
            "[WARNING] [2023-11-24 10:06:47,071:Client-AutoMLSMBO(1)::airbnb] Configuration 32 not found\n",
            "[WARNING] [2023-11-24 10:06:47,071:Client-AutoMLSMBO(1)::airbnb] Configuration 237 not found\n",
            "[WARNING] [2023-11-24 10:06:47,071:Client-AutoMLSMBO(1)::airbnb] Configuration 422 not found\n",
            "[WARNING] [2023-11-24 10:06:47,072:Client-AutoMLSMBO(1)::airbnb] Configuration 75 not found\n",
            "[WARNING] [2023-11-24 10:06:47,072:Client-AutoMLSMBO(1)::airbnb] Configuration 590 not found\n",
            "[WARNING] [2023-11-24 10:06:47,072:Client-AutoMLSMBO(1)::airbnb] Configuration 184 not found\n",
            "[WARNING] [2023-11-24 10:06:47,072:Client-AutoMLSMBO(1)::airbnb] Configuration 282 not found\n",
            "[WARNING] [2023-11-24 10:06:47,073:Client-AutoMLSMBO(1)::airbnb] Configuration 461 not found\n",
            "[WARNING] [2023-11-24 10:06:47,073:Client-AutoMLSMBO(1)::airbnb] Configuration 560 not found\n",
            "[WARNING] [2023-11-24 10:06:47,073:Client-AutoMLSMBO(1)::airbnb] Configuration 232 not found\n",
            "[WARNING] [2023-11-24 10:06:47,073:Client-AutoMLSMBO(1)::airbnb] Configuration 546 not found\n",
            "[WARNING] [2023-11-24 10:06:47,073:Client-AutoMLSMBO(1)::airbnb] Configuration 608 not found\n",
            "[WARNING] [2023-11-24 10:06:47,073:Client-AutoMLSMBO(1)::airbnb] Configuration 399 not found\n",
            "[WARNING] [2023-11-24 10:06:47,073:Client-AutoMLSMBO(1)::airbnb] Configuration 37 not found\n",
            "[WARNING] [2023-11-24 10:06:47,073:Client-AutoMLSMBO(1)::airbnb] Configuration 358 not found\n",
            "[WARNING] [2023-11-24 10:06:47,073:Client-AutoMLSMBO(1)::airbnb] Configuration 99 not found\n",
            "[WARNING] [2023-11-24 10:06:47,073:Client-AutoMLSMBO(1)::airbnb] Configuration 149 not found\n",
            "[WARNING] [2023-11-24 10:06:47,073:Client-AutoMLSMBO(1)::airbnb] Configuration 345 not found\n",
            "[WARNING] [2023-11-24 10:06:47,073:Client-AutoMLSMBO(1)::airbnb] Configuration 579 not found\n",
            "[WARNING] [2023-11-24 10:06:47,073:Client-AutoMLSMBO(1)::airbnb] Configuration 9 not found\n",
            "[WARNING] [2023-11-24 10:06:47,073:Client-AutoMLSMBO(1)::airbnb] Configuration 81 not found\n",
            "[WARNING] [2023-11-24 10:06:47,073:Client-AutoMLSMBO(1)::airbnb] Configuration 357 not found\n",
            "[WARNING] [2023-11-24 10:06:47,073:Client-AutoMLSMBO(1)::airbnb] Configuration 595 not found\n",
            "[WARNING] [2023-11-24 10:06:47,073:Client-AutoMLSMBO(1)::airbnb] Configuration 613 not found\n",
            "[WARNING] [2023-11-24 10:06:47,073:Client-AutoMLSMBO(1)::airbnb] Configuration 315 not found\n",
            "[WARNING] [2023-11-24 10:06:47,073:Client-AutoMLSMBO(1)::airbnb] Configuration 40 not found\n",
            "[WARNING] [2023-11-24 10:06:47,073:Client-AutoMLSMBO(1)::airbnb] Configuration 414 not found\n",
            "[WARNING] [2023-11-24 10:06:47,074:Client-AutoMLSMBO(1)::airbnb] Configuration 536 not found\n",
            "[WARNING] [2023-11-24 10:06:47,074:Client-AutoMLSMBO(1)::airbnb] Configuration 264 not found\n",
            "[WARNING] [2023-11-24 10:06:47,074:Client-AutoMLSMBO(1)::airbnb] Configuration 193 not found\n",
            "[WARNING] [2023-11-24 10:06:47,074:Client-AutoMLSMBO(1)::airbnb] Configuration 277 not found\n",
            "[WARNING] [2023-11-24 10:06:47,074:Client-AutoMLSMBO(1)::airbnb] Configuration 670 not found\n",
            "[WARNING] [2023-11-24 10:06:47,074:Client-AutoMLSMBO(1)::airbnb] Configuration 53 not found\n",
            "[WARNING] [2023-11-24 10:06:47,074:Client-AutoMLSMBO(1)::airbnb] Configuration 393 not found\n",
            "[WARNING] [2023-11-24 10:06:47,074:Client-AutoMLSMBO(1)::airbnb] Configuration 648 not found\n",
            "[WARNING] [2023-11-24 10:06:47,074:Client-AutoMLSMBO(1)::airbnb] Configuration 270 not found\n",
            "[WARNING] [2023-11-24 10:06:47,074:Client-AutoMLSMBO(1)::airbnb] Configuration 173 not found\n",
            "[WARNING] [2023-11-24 10:06:47,074:Client-AutoMLSMBO(1)::airbnb] Configuration 25 not found\n",
            "[WARNING] [2023-11-24 10:06:47,074:Client-AutoMLSMBO(1)::airbnb] Configuration 48 not found\n",
            "[WARNING] [2023-11-24 10:06:47,074:Client-AutoMLSMBO(1)::airbnb] Configuration 512 not found\n",
            "[WARNING] [2023-11-24 10:06:47,074:Client-AutoMLSMBO(1)::airbnb] Configuration 129 not found\n",
            "[WARNING] [2023-11-24 10:06:47,074:Client-AutoMLSMBO(1)::airbnb] Configuration 378 not found\n",
            "[WARNING] [2023-11-24 10:06:47,074:Client-AutoMLSMBO(1)::airbnb] Configuration 313 not found\n",
            "[WARNING] [2023-11-24 10:06:47,074:Client-AutoMLSMBO(1)::airbnb] Configuration 340 not found\n",
            "[WARNING] [2023-11-24 10:06:47,075:Client-AutoMLSMBO(1)::airbnb] Configuration 445 not found\n",
            "[WARNING] [2023-11-24 10:06:47,075:Client-AutoMLSMBO(1)::airbnb] Configuration 587 not found\n",
            "[WARNING] [2023-11-24 10:06:47,075:Client-AutoMLSMBO(1)::airbnb] Configuration 653 not found\n",
            "[WARNING] [2023-11-24 10:06:47,075:Client-AutoMLSMBO(1)::airbnb] Configuration 680 not found\n",
            "[WARNING] [2023-11-24 10:06:47,075:Client-AutoMLSMBO(1)::airbnb] Configuration 204 not found\n",
            "[WARNING] [2023-11-24 10:06:47,076:Client-AutoMLSMBO(1)::airbnb] Configuration 437 not found\n",
            "[WARNING] [2023-11-24 10:06:47,076:Client-AutoMLSMBO(1)::airbnb] Configuration 142 not found\n",
            "[WARNING] [2023-11-24 10:06:47,076:Client-AutoMLSMBO(1)::airbnb] Configuration 69 not found\n",
            "[WARNING] [2023-11-24 10:06:47,077:Client-AutoMLSMBO(1)::airbnb] Configuration 485 not found\n",
            "[WARNING] [2023-11-24 10:06:47,077:Client-AutoMLSMBO(1)::airbnb] Configuration 310 not found\n",
            "[WARNING] [2023-11-24 10:06:47,077:Client-AutoMLSMBO(1)::airbnb] Configuration 160 not found\n",
            "[WARNING] [2023-11-24 10:06:47,077:Client-AutoMLSMBO(1)::airbnb] Configuration 434 not found\n",
            "[WARNING] [2023-11-24 10:06:47,077:Client-AutoMLSMBO(1)::airbnb] Configuration 615 not found\n",
            "[WARNING] [2023-11-24 10:06:47,077:Client-AutoMLSMBO(1)::airbnb] Configuration 375 not found\n",
            "[WARNING] [2023-11-24 10:06:47,077:Client-AutoMLSMBO(1)::airbnb] Configuration 470 not found\n",
            "[WARNING] [2023-11-24 10:06:47,077:Client-AutoMLSMBO(1)::airbnb] Configuration 419 not found\n",
            "[WARNING] [2023-11-24 10:06:47,077:Client-AutoMLSMBO(1)::airbnb] Configuration 293 not found\n",
            "[WARNING] [2023-11-24 10:06:47,077:Client-AutoMLSMBO(1)::airbnb] Configuration 83 not found\n",
            "[WARNING] [2023-11-24 10:06:47,077:Client-AutoMLSMBO(1)::airbnb] Configuration 154 not found\n",
            "[WARNING] [2023-11-24 10:06:47,077:Client-AutoMLSMBO(1)::airbnb] Configuration 197 not found\n",
            "[WARNING] [2023-11-24 10:06:47,077:Client-AutoMLSMBO(1)::airbnb] Configuration 172 not found\n",
            "[WARNING] [2023-11-24 10:06:47,077:Client-AutoMLSMBO(1)::airbnb] Configuration 412 not found\n",
            "[WARNING] [2023-11-24 10:06:47,077:Client-AutoMLSMBO(1)::airbnb] Configuration 647 not found\n",
            "[WARNING] [2023-11-24 10:06:47,077:Client-AutoMLSMBO(1)::airbnb] Configuration 183 not found\n",
            "[WARNING] [2023-11-24 10:06:47,077:Client-AutoMLSMBO(1)::airbnb] Configuration 617 not found\n",
            "[WARNING] [2023-11-24 10:06:47,078:Client-AutoMLSMBO(1)::airbnb] Configuration 643 not found\n",
            "[WARNING] [2023-11-24 10:06:47,078:Client-AutoMLSMBO(1)::airbnb] Configuration 486 not found\n",
            "[WARNING] [2023-11-24 10:06:47,078:Client-AutoMLSMBO(1)::airbnb] Configuration 707 not found\n",
            "[WARNING] [2023-11-24 10:06:47,078:Client-AutoMLSMBO(1)::airbnb] Configuration 687 not found\n",
            "[WARNING] [2023-11-24 10:06:47,078:Client-AutoMLSMBO(1)::airbnb] Configuration 58 not found\n",
            "[WARNING] [2023-11-24 10:06:47,078:Client-AutoMLSMBO(1)::airbnb] Configuration 124 not found\n",
            "[WARNING] [2023-11-24 10:06:47,078:Client-AutoMLSMBO(1)::airbnb] Configuration 571 not found\n"
          ]
        },
        {
          "name": "stderr",
          "output_type": "stream",
          "text": [
            "Fitting to the training data:  13%|\u001b[32m█▎        \u001b[0m| 16/120 [00:16<01:44,  1.00s/it, The total time budget for this task is 0:02:00]"
          ]
        },
        {
          "name": "stdout",
          "output_type": "stream",
          "text": [
            "[WARNING] [2023-11-24 10:06:47,078:Client-AutoMLSMBO(1)::airbnb] Configuration 56 not found\n",
            "[WARNING] [2023-11-24 10:06:47,078:Client-AutoMLSMBO(1)::airbnb] Configuration 555 not found\n",
            "[WARNING] [2023-11-24 10:06:47,078:Client-AutoMLSMBO(1)::airbnb] Configuration 288 not found\n",
            "[WARNING] [2023-11-24 10:06:47,078:Client-AutoMLSMBO(1)::airbnb] Configuration 628 not found\n",
            "[WARNING] [2023-11-24 10:06:47,078:Client-AutoMLSMBO(1)::airbnb] Configuration 97 not found\n",
            "[WARNING] [2023-11-24 10:06:47,078:Client-AutoMLSMBO(1)::airbnb] Configuration 622 not found\n",
            "[WARNING] [2023-11-24 10:06:47,078:Client-AutoMLSMBO(1)::airbnb] Configuration 17 not found\n",
            "[WARNING] [2023-11-24 10:06:47,078:Client-AutoMLSMBO(1)::airbnb] Configuration 298 not found\n",
            "[WARNING] [2023-11-24 10:06:47,078:Client-AutoMLSMBO(1)::airbnb] Configuration 683 not found\n",
            "[WARNING] [2023-11-24 10:06:47,079:Client-AutoMLSMBO(1)::airbnb] Configuration 553 not found\n",
            "[WARNING] [2023-11-24 10:06:47,079:Client-AutoMLSMBO(1)::airbnb] Configuration 352 not found\n",
            "[WARNING] [2023-11-24 10:06:47,079:Client-AutoMLSMBO(1)::airbnb] Configuration 395 not found\n",
            "[WARNING] [2023-11-24 10:06:47,079:Client-AutoMLSMBO(1)::airbnb] Configuration 538 not found\n",
            "[WARNING] [2023-11-24 10:06:47,079:Client-AutoMLSMBO(1)::airbnb] Configuration 448 not found\n",
            "[WARNING] [2023-11-24 10:06:47,079:Client-AutoMLSMBO(1)::airbnb] Configuration 112 not found\n",
            "[WARNING] [2023-11-24 10:06:47,079:Client-AutoMLSMBO(1)::airbnb] Configuration 543 not found\n",
            "[WARNING] [2023-11-24 10:06:47,079:Client-AutoMLSMBO(1)::airbnb] Configuration 494 not found\n",
            "[WARNING] [2023-11-24 10:06:47,079:Client-AutoMLSMBO(1)::airbnb] Configuration 19 not found\n",
            "[WARNING] [2023-11-24 10:06:47,079:Client-AutoMLSMBO(1)::airbnb] Configuration 121 not found\n",
            "[WARNING] [2023-11-24 10:06:47,079:Client-AutoMLSMBO(1)::airbnb] Configuration 134 not found\n",
            "[WARNING] [2023-11-24 10:06:47,079:Client-AutoMLSMBO(1)::airbnb] Configuration 499 not found\n",
            "[WARNING] [2023-11-24 10:06:47,079:Client-AutoMLSMBO(1)::airbnb] Configuration 509 not found\n",
            "[WARNING] [2023-11-24 10:06:47,079:Client-AutoMLSMBO(1)::airbnb] Configuration 528 not found\n",
            "[WARNING] [2023-11-24 10:06:47,079:Client-AutoMLSMBO(1)::airbnb] Configuration 171 not found\n",
            "[WARNING] [2023-11-24 10:06:47,079:Client-AutoMLSMBO(1)::airbnb] Configuration 403 not found\n",
            "[WARNING] [2023-11-24 10:06:47,080:Client-AutoMLSMBO(1)::airbnb] Configuration 102 not found\n",
            "[WARNING] [2023-11-24 10:06:47,080:Client-AutoMLSMBO(1)::airbnb] Configuration 363 not found\n",
            "[WARNING] [2023-11-24 10:06:47,080:Client-AutoMLSMBO(1)::airbnb] Configuration 322 not found\n",
            "[WARNING] [2023-11-24 10:06:47,080:Client-AutoMLSMBO(1)::airbnb] Configuration 199 not found\n",
            "[WARNING] [2023-11-24 10:06:47,080:Client-AutoMLSMBO(1)::airbnb] Configuration 291 not found\n",
            "[WARNING] [2023-11-24 10:06:47,080:Client-AutoMLSMBO(1)::airbnb] Configuration 480 not found\n",
            "[WARNING] [2023-11-24 10:06:47,080:Client-AutoMLSMBO(1)::airbnb] Configuration 548 not found\n",
            "[WARNING] [2023-11-24 10:06:47,080:Client-AutoMLSMBO(1)::airbnb] Configuration 243 not found\n",
            "[WARNING] [2023-11-24 10:06:47,080:Client-AutoMLSMBO(1)::airbnb] Configuration 596 not found\n",
            "[WARNING] [2023-11-24 10:06:47,080:Client-AutoMLSMBO(1)::airbnb] Configuration 317 not found\n",
            "[WARNING] [2023-11-24 10:06:47,080:Client-AutoMLSMBO(1)::airbnb] Configuration 304 not found\n",
            "[WARNING] [2023-11-24 10:06:47,081:Client-AutoMLSMBO(1)::airbnb] Configuration 503 not found\n",
            "[WARNING] [2023-11-24 10:06:47,081:Client-AutoMLSMBO(1)::airbnb] Configuration 640 not found\n",
            "[WARNING] [2023-11-24 10:06:47,081:Client-AutoMLSMBO(1)::airbnb] Configuration 150 not found\n",
            "[WARNING] [2023-11-24 10:06:47,081:Client-AutoMLSMBO(1)::airbnb] Configuration 275 not found\n",
            "[WARNING] [2023-11-24 10:06:47,081:Client-AutoMLSMBO(1)::airbnb] Configuration 452 not found\n",
            "[WARNING] [2023-11-24 10:06:47,081:Client-AutoMLSMBO(1)::airbnb] Configuration 120 not found\n"
          ]
        },
        {
          "name": "stderr",
          "output_type": "stream",
          "text": [
            "Fitting to the training data: 100%|\u001b[32m██████████\u001b[0m| 120/120 [01:52<00:00,  1.06it/s, The total time budget for this task is 0:02:00]\n"
          ]
        },
        {
          "name": "stdout",
          "output_type": "stream",
          "text": [
            "Configuration(values={\n",
            "  'balancing:strategy': 'none',\n",
            "  'classifier:__choice__': 'mlp',\n",
            "  'classifier:mlp:activation': 'relu',\n",
            "  'classifier:mlp:alpha': 0.0001,\n",
            "  'classifier:mlp:batch_size': 'auto',\n",
            "  'classifier:mlp:beta_1': 0.9,\n",
            "  'classifier:mlp:beta_2': 0.999,\n",
            "  'classifier:mlp:early_stopping': 'valid',\n",
            "  'classifier:mlp:epsilon': 1e-08,\n",
            "  'classifier:mlp:hidden_layer_depth': 1,\n",
            "  'classifier:mlp:learning_rate_init': 0.001,\n",
            "  'classifier:mlp:n_iter_no_change': 32,\n",
            "  'classifier:mlp:num_nodes_per_layer': 32,\n",
            "  'classifier:mlp:shuffle': 'True',\n",
            "  'classifier:mlp:solver': 'adam',\n",
            "  'classifier:mlp:tol': 0.0001,\n",
            "  'classifier:mlp:validation_fraction': 0.1,\n",
            "  'data_preprocessor:__choice__': 'feature_type',\n",
            "  'data_preprocessor:feature_type:numerical_transformer:imputation:strategy': 'mean',\n",
            "  'data_preprocessor:feature_type:numerical_transformer:rescaling:__choice__': 'standardize',\n",
            "  'data_preprocessor:feature_type:text_transformer:text_encoding:__choice__': 'tfidf_encoding',\n",
            "  'data_preprocessor:feature_type:text_transformer:text_encoding:tfidf_encoding:analyzer': 'char',\n",
            "  'data_preprocessor:feature_type:text_transformer:text_encoding:tfidf_encoding:binary': 'False',\n",
            "  'data_preprocessor:feature_type:text_transformer:text_encoding:tfidf_encoding:max_df': 1.0,\n",
            "  'data_preprocessor:feature_type:text_transformer:text_encoding:tfidf_encoding:min_df': 0.0,\n",
            "  'data_preprocessor:feature_type:text_transformer:text_encoding:tfidf_encoding:ngram_range_char': 4,\n",
            "  'data_preprocessor:feature_type:text_transformer:text_encoding:tfidf_encoding:norm': 'l2',\n",
            "  'data_preprocessor:feature_type:text_transformer:text_encoding:tfidf_encoding:per_column': False,\n",
            "  'data_preprocessor:feature_type:text_transformer:text_encoding:tfidf_encoding:sublinear_tf': 'False',\n",
            "  'data_preprocessor:feature_type:text_transformer:text_feature_reduction:n_components': 100,\n",
            "  'feature_preprocessor:__choice__': 'no_preprocessing',\n",
            "})\n",
            "\n",
            "Execution time: 118.02991899899644 seconds\n"
          ]
        }
      ],
      "source": [
        "start_time = timeit.default_timer()\n",
        "\n",
        "automl = autosklearn.classification.AutoSklearnClassifier(\n",
        "    time_left_for_this_task=120,\n",
        "    per_run_time_limit=30,\n",
        "    include = {\n",
        "        'classifier': [\"mlp\"],\n",
        "        'feature_preprocessor': [\"no_preprocessing\"]\n",
        "    },\n",
        "    tmp_folder=\"tmp/autosklearn_classification_example_tmp\",\n",
        ")\n",
        "\n",
        "automl.fit(X_train, y_train, dataset_name=\"airbnb\")\n",
        "## get configuration for a model/run\n",
        "run_key = list(automl.automl_.runhistory_.data.keys())[0]\n",
        "run_value = automl.automl_.runhistory_.data[run_key]\n",
        "config=automl.automl_.runhistory_.ids_config[run_key.config_id]\n",
        "print(config)\n",
        "\n",
        "\n",
        "end_time = timeit.default_timer()\n",
        "execution_time = end_time - start_time\n",
        "print(f\"Execution time: {execution_time} seconds\")\n"
      ]
    },
    {
      "cell_type": "markdown",
      "metadata": {},
      "source": [
        "## View the models found by auto-sklearn\n",
        "\n"
      ]
    },
    {
      "cell_type": "code",
      "execution_count": 6,
      "metadata": {
        "collapsed": false
      },
      "outputs": [
        {
          "name": "stdout",
          "output_type": "stream",
          "text": [
            "          rank  ensemble_weight type      cost   duration\n",
            "model_id                                                 \n",
            "2            1             0.26  mlp  0.307542   8.949112\n",
            "15           2             0.32  mlp  0.309990   8.975547\n",
            "3            4             0.08  mlp  0.320437  12.311976\n",
            "6            3             0.04  mlp  0.320437   5.667996\n",
            "10           5             0.04  mlp  0.320437   7.852460\n",
            "8            6             0.12  mlp  0.321417  10.023907\n",
            "7            7             0.14  mlp  0.377897   7.416689\n"
          ]
        }
      ],
      "source": [
        "print(automl.leaderboard())"
      ]
    },
    {
      "cell_type": "markdown",
      "metadata": {},
      "source": [
        "## Print the final ensemble constructed by auto-sklearn\n",
        "\n"
      ]
    },
    {
      "cell_type": "code",
      "execution_count": 7,
      "metadata": {
        "collapsed": false
      },
      "outputs": [
        {
          "name": "stdout",
          "output_type": "stream",
          "text": [
            "{   2: {   'balancing': Balancing(random_state=1),\n",
            "           'classifier': <autosklearn.pipeline.components.classification.ClassifierChoice object at 0x7f812babf6a0>,\n",
            "           'cost': 0.30754162585700295,\n",
            "           'data_preprocessor': <autosklearn.pipeline.components.data_preprocessing.DataPreprocessorChoice object at 0x7f812d284190>,\n",
            "           'ensemble_weight': 0.26,\n",
            "           'feature_preprocessor': <autosklearn.pipeline.components.feature_preprocessing.FeaturePreprocessorChoice object at 0x7f812babfcd0>,\n",
            "           'model_id': 2,\n",
            "           'rank': 1,\n",
            "           'sklearn_classifier': MLPClassifier(beta_1=0.999, beta_2=0.9, early_stopping=True,\n",
            "              hidden_layer_sizes=(32,), max_iter=64, n_iter_no_change=32,\n",
            "              random_state=1, verbose=0, warm_start=True)},\n",
            "    3: {   'balancing': Balancing(random_state=1, strategy='weighting'),\n",
            "           'classifier': <autosklearn.pipeline.components.classification.ClassifierChoice object at 0x7f812b70e5e0>,\n",
            "           'cost': 0.3204374795951681,\n",
            "           'data_preprocessor': <autosklearn.pipeline.components.data_preprocessing.DataPreprocessorChoice object at 0x7f812bf3cbe0>,\n",
            "           'ensemble_weight': 0.08,\n",
            "           'feature_preprocessor': <autosklearn.pipeline.components.feature_preprocessing.FeaturePreprocessorChoice object at 0x7f812b70e0a0>,\n",
            "           'model_id': 3,\n",
            "           'rank': 4,\n",
            "           'sklearn_classifier': MLPClassifier(alpha=1.1952772240345466e-06, beta_1=0.999, beta_2=0.9,\n",
            "              early_stopping=True, hidden_layer_sizes=(103,),\n",
            "              learning_rate_init=0.04431671753867657, max_iter=64,\n",
            "              n_iter_no_change=32, random_state=1, verbose=0, warm_start=True)},\n",
            "    6: {   'balancing': Balancing(random_state=1),\n",
            "           'classifier': <autosklearn.pipeline.components.classification.ClassifierChoice object at 0x7f812b359f70>,\n",
            "           'cost': 0.3204374795951681,\n",
            "           'data_preprocessor': <autosklearn.pipeline.components.data_preprocessing.DataPreprocessorChoice object at 0x7f812bae8dc0>,\n",
            "           'ensemble_weight': 0.04,\n",
            "           'feature_preprocessor': <autosklearn.pipeline.components.feature_preprocessing.FeaturePreprocessorChoice object at 0x7f812b3591f0>,\n",
            "           'model_id': 6,\n",
            "           'rank': 3,\n",
            "           'sklearn_classifier': MLPClassifier(alpha=8.528439389778072e-05, beta_1=0.999, beta_2=0.9,\n",
            "              early_stopping=True, hidden_layer_sizes=(30, 30),\n",
            "              learning_rate_init=0.019270274847897347, max_iter=32,\n",
            "              n_iter_no_change=32, random_state=1, verbose=0, warm_start=True)},\n",
            "    7: {   'balancing': Balancing(random_state=1, strategy='weighting'),\n",
            "           'classifier': <autosklearn.pipeline.components.classification.ClassifierChoice object at 0x7f812b723130>,\n",
            "           'cost': 0.3778974861247143,\n",
            "           'data_preprocessor': <autosklearn.pipeline.components.data_preprocessing.DataPreprocessorChoice object at 0x7f812babfee0>,\n",
            "           'ensemble_weight': 0.14,\n",
            "           'feature_preprocessor': <autosklearn.pipeline.components.feature_preprocessing.FeaturePreprocessorChoice object at 0x7f812b723400>,\n",
            "           'model_id': 7,\n",
            "           'rank': 8,\n",
            "           'sklearn_classifier': MLPClassifier(activation='tanh', alpha=0.00183151527524442, beta_1=0.999,\n",
            "              beta_2=0.9, hidden_layer_sizes=(62, 62),\n",
            "              learning_rate_init=0.028767568676271622, max_iter=32,\n",
            "              n_iter_no_change=32, random_state=1, validation_fraction=0.0,\n",
            "              verbose=0, warm_start=True)},\n",
            "    8: {   'balancing': Balancing(random_state=1, strategy='weighting'),\n",
            "           'classifier': <autosklearn.pipeline.components.classification.ClassifierChoice object at 0x7f812b352f10>,\n",
            "           'cost': 0.321416911524649,\n",
            "           'data_preprocessor': <autosklearn.pipeline.components.data_preprocessing.DataPreprocessorChoice object at 0x7f812b7c7970>,\n",
            "           'ensemble_weight': 0.12,\n",
            "           'feature_preprocessor': <autosklearn.pipeline.components.feature_preprocessing.FeaturePreprocessorChoice object at 0x7f812b3521f0>,\n",
            "           'model_id': 8,\n",
            "           'rank': 6,\n",
            "           'sklearn_classifier': MLPClassifier(alpha=0.00016591422739738353, beta_1=0.999, beta_2=0.9,\n",
            "              early_stopping=True, hidden_layer_sizes=(105, 105),\n",
            "              learning_rate_init=0.012322532509816886, max_iter=32,\n",
            "              n_iter_no_change=32, random_state=1, verbose=0, warm_start=True)},\n",
            "    10: {   'balancing': Balancing(random_state=1),\n",
            "            'classifier': <autosklearn.pipeline.components.classification.ClassifierChoice object at 0x7f812b2e8280>,\n",
            "            'cost': 0.3204374795951681,\n",
            "            'data_preprocessor': <autosklearn.pipeline.components.data_preprocessing.DataPreprocessorChoice object at 0x7f812ba874c0>,\n",
            "            'ensemble_weight': 0.04,\n",
            "            'feature_preprocessor': <autosklearn.pipeline.components.feature_preprocessing.FeaturePreprocessorChoice object at 0x7f812b2e83a0>,\n",
            "            'model_id': 10,\n",
            "            'rank': 5,\n",
            "            'sklearn_classifier': MLPClassifier(alpha=5.415945040484989e-05, beta_1=0.999, beta_2=0.9,\n",
            "              early_stopping=True, hidden_layer_sizes=(58, 58, 58),\n",
            "              learning_rate_init=0.005789103886656149, max_iter=32,\n",
            "              n_iter_no_change=32, random_state=1, verbose=0, warm_start=True)},\n",
            "    15: {   'balancing': Balancing(random_state=1, strategy='weighting'),\n",
            "            'classifier': <autosklearn.pipeline.components.classification.ClassifierChoice object at 0x7f812badf100>,\n",
            "            'cost': 0.30999020568070523,\n",
            "            'data_preprocessor': <autosklearn.pipeline.components.data_preprocessing.DataPreprocessorChoice object at 0x7f812b723e20>,\n",
            "            'ensemble_weight': 0.32,\n",
            "            'feature_preprocessor': <autosklearn.pipeline.components.feature_preprocessing.FeaturePreprocessorChoice object at 0x7f812badf5b0>,\n",
            "            'model_id': 15,\n",
            "            'rank': 2,\n",
            "            'sklearn_classifier': MLPClassifier(activation='tanh', alpha=3.9145031082422896e-07, beta_1=0.999,\n",
            "              beta_2=0.9, early_stopping=True, hidden_layer_sizes=(80, 80),\n",
            "              learning_rate_init=0.0026162620999775938, max_iter=32,\n",
            "              n_iter_no_change=32, random_state=1, verbose=0, warm_start=True)}}\n"
          ]
        }
      ],
      "source": [
        "pprint(automl.show_models(), indent=4)"
      ]
    },
    {
      "cell_type": "markdown",
      "metadata": {},
      "source": [
        "## Get the Score of the final ensemble\n",
        "\n"
      ]
    },
    {
      "cell_type": "code",
      "execution_count": 8,
      "metadata": {
        "collapsed": false
      },
      "outputs": [
        {
          "name": "stderr",
          "output_type": "stream",
          "text": [
            "/home/preethi/projects/hitlda-project/auto-sklearn/py39/lib/python3.9/site-packages/sklearn/utils/validation.py:571: FutureWarning: is_sparse is deprecated and will be removed in a future version. Check `isinstance(dtype, pd.SparseDtype)` instead.\n",
            "  array.dtypes.apply(is_sparse).any()):\n",
            "/home/preethi/projects/hitlda-project/auto-sklearn/py39/lib/python3.9/site-packages/sklearn/utils/validation.py:571: FutureWarning: is_sparse is deprecated and will be removed in a future version. Check `isinstance(dtype, pd.SparseDtype)` instead.\n",
            "  array.dtypes.apply(is_sparse).any()):\n",
            "/home/preethi/projects/hitlda-project/auto-sklearn/py39/lib/python3.9/site-packages/sklearn/utils/validation.py:571: FutureWarning: is_sparse is deprecated and will be removed in a future version. Check `isinstance(dtype, pd.SparseDtype)` instead.\n",
            "  array.dtypes.apply(is_sparse).any()):\n",
            "/home/preethi/projects/hitlda-project/auto-sklearn/py39/lib/python3.9/site-packages/sklearn/utils/validation.py:571: FutureWarning: is_sparse is deprecated and will be removed in a future version. Check `isinstance(dtype, pd.SparseDtype)` instead.\n",
            "  array.dtypes.apply(is_sparse).any()):\n",
            "/home/preethi/projects/hitlda-project/auto-sklearn/py39/lib/python3.9/site-packages/sklearn/utils/validation.py:571: FutureWarning: is_sparse is deprecated and will be removed in a future version. Check `isinstance(dtype, pd.SparseDtype)` instead.\n",
            "  array.dtypes.apply(is_sparse).any()):\n",
            "/home/preethi/projects/hitlda-project/auto-sklearn/py39/lib/python3.9/site-packages/sklearn/utils/validation.py:571: FutureWarning: is_sparse is deprecated and will be removed in a future version. Check `isinstance(dtype, pd.SparseDtype)` instead.\n",
            "  array.dtypes.apply(is_sparse).any()):\n",
            "/home/preethi/projects/hitlda-project/auto-sklearn/py39/lib/python3.9/site-packages/sklearn/utils/validation.py:571: FutureWarning: is_sparse is deprecated and will be removed in a future version. Check `isinstance(dtype, pd.SparseDtype)` instead.\n",
            "  array.dtypes.apply(is_sparse).any()):\n"
          ]
        },
        {
          "name": "stdout",
          "output_type": "stream",
          "text": [
            "Execution time: 0.8831251290030195 seconds\n",
            "Accuracy score: 0.6886446886446886\n"
          ]
        }
      ],
      "source": [
        "start_time = timeit.default_timer()\n",
        "\n",
        "predictions = automl.predict(X_test)\n",
        "\n",
        "end_time = timeit.default_timer()\n",
        "execution_time = end_time - start_time\n",
        "print(f\"Execution time: {execution_time} seconds\")\n",
        "print(\"Accuracy score:\", sklearn.metrics.accuracy_score(y_test, predictions))\n"
      ]
    }
  ],
  "metadata": {
    "kernelspec": {
      "display_name": "Python 3",
      "language": "python",
      "name": "python3"
    },
    "language_info": {
      "codemirror_mode": {
        "name": "ipython",
        "version": 3
      },
      "file_extension": ".py",
      "mimetype": "text/x-python",
      "name": "python",
      "nbconvert_exporter": "python",
      "pygments_lexer": "ipython3",
      "version": "3.9.18"
    }
  },
  "nbformat": 4,
  "nbformat_minor": 0
}
